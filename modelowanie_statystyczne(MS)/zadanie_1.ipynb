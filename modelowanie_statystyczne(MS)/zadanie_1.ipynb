{
 "cells": [
  {
   "cell_type": "code",
   "execution_count": 108,
   "metadata": {},
   "outputs": [],
   "source": [
    "import matplotlib.pyplot as plt\n",
    "import scipy.stats as stats\n",
    "import numpy as np\n",
    "import pandas as pd\n",
    "import seaborn as sns\n",
    "import random\n"
   ]
  },
  {
   "cell_type": "code",
   "execution_count": 48,
   "metadata": {},
   "outputs": [],
   "source": [
    "def was(zmienne):\n",
    "    plt.boxplot(zmienne)"
   ]
  },
  {
   "cell_type": "code",
   "execution_count": 147,
   "metadata": {},
   "outputs": [],
   "source": [
    "def histogram(samples):\n",
    "    plt.hist(samples, density=True, alpha=0.90, color='blue', edgecolor='black')\n",
    "    plt.show()"
   ]
  },
  {
   "cell_type": "code",
   "execution_count": 89,
   "metadata": {},
   "outputs": [],
   "source": [
    "def przedzialy(ile_przedzialow, wielkoszc_przedizlau, samples):\n",
    "    bins = [i*wielkoszc_przedizlau for i in range(ile_przedzialow)]\n",
    "    print(bins)\n",
    "    # Tworzenie szeregu rozdzielczego\n",
    "    series = pd.cut(samples, bins=bins)\n",
    "\n",
    "    # Zliczanie, ile elementów znajduje się w każdym przedziale\n",
    "    frequency = pd.value_counts(series, sort=False)\n",
    "\n",
    "    # Wyświetlenie szeregu rozdzielczego\n",
    "    print(frequency)"
   ]
  },
  {
   "cell_type": "code",
   "execution_count": 73,
   "metadata": {},
   "outputs": [],
   "source": [
    "def dystrybuanta(dane):\n",
    "    sns.set(style=\"whitegrid\")\n",
    "    sns.ecdfplot(dane, color='blue', linewidth=2)  # Wykres dystrybuanty (empiryczny CDF)\n",
    "\n",
    "    # Dodanie tytułu i etykiet\n",
    "    plt.title('Dystrybuanta rozkładu normalnego (CDF)', fontsize=14)\n",
    "    plt.xlabel('Wartości', fontsize=12)"
   ]
  },
  {
   "cell_type": "code",
   "execution_count": 148,
   "metadata": {},
   "outputs": [
    {
     "data": {
      "image/png": "[encoded data removed]",
      "text/plain": [
       "<Figure size 640x480 with 1 Axes>"
      ]
     },
     "metadata": {},
     "output_type": "display_data"
    }
   ],
   "source": [
    "n = 10\n",
    "p = 0.1\n",
    "size = 1000\n",
    "samples = stats.binom.rvs(n, p, size=size)\n",
    "#was(samples)\n",
    "histogram(samples)\n",
    "#przedzialy(8, 1, samples)\n",
    "#dystrybuanta(samples)"
   ]
  },
  {
   "cell_type": "code",
   "execution_count": 181,
   "metadata": {},
   "outputs": [
    {
     "data": {
      "image/png": "[encoded data removed]",
      "text/plain": [
       "<Figure size 640x480 with 1 Axes>"
      ]
     },
     "metadata": {},
     "output_type": "display_data"
    }
   ],
   "source": [
    "n = 10\n",
    "p = 0.5\n",
    "size = 1000\n",
    "samples = stats.binom.rvs(n, p, size=size)\n",
    "#was(samples)\n",
    "histogram(samples)\n",
    "#przedzialy(11, 1, samples)\n",
    "#dystrybuanta(samples)"
   ]
  },
  {
   "cell_type": "code",
   "execution_count": 105,
   "metadata": {},
   "outputs": [],
   "source": [
    "n = 10\n",
    "p = 0.9\n",
    "size = 1000\n",
    "samples = stats.binom.rvs(n, p, size=size)\n",
    "#was(samples)\n",
    "#histogram(10, 0.1, samples)\n",
    "#przedzialy(11, 1, samples)\n",
    "#dystrybuanta(samples)"
   ]
  },
  {
   "cell_type": "code",
   "execution_count": 106,
   "metadata": {},
   "outputs": [],
   "source": [
    "n = 20\n",
    "p = 0.9\n",
    "size = 1000\n",
    "samples = stats.binom.rvs(n, p, size=size)\n",
    "#was(samples)\n",
    "#histogram(10, 0.1, samples)\n",
    "#przedzialy(11, 1, samples)\n",
    "#dystrybuanta(samples)"
   ]
  },
  {
   "cell_type": "code",
   "execution_count": 107,
   "metadata": {},
   "outputs": [],
   "source": [
    "n = 50\n",
    "p = 0.9\n",
    "size = 1000\n",
    "samples = stats.binom.rvs(n, p, size=size)\n",
    "#was(samples)\n",
    "#histogram(10, 0.1, samples)\n",
    "#przedzialy(11, 1, samples)\n",
    "#dystrybuanta(samples)"
   ]
  },
  {
   "cell_type": "markdown",
   "metadata": {},
   "source": [
    "nie jestesmy w stanie zrobi histogramu dla dyskretnych i cigych???\n",
    "maja byc obok siebie ladne slupki ktore sie stykaja"
   ]
  },
  {
   "cell_type": "markdown",
   "metadata": {},
   "source": [
    "Zadanie 2"
   ]
  },
  {
   "cell_type": "code",
   "execution_count": 184,
   "metadata": {},
   "outputs": [],
   "source": [
    "zmienne = np.random.poisson(lam=1, size=1000)\n",
    "#was(zmienne)\n",
    "#histogram(zmienne)\n",
    "#przedzialy(6, 1, zmienne)\n",
    "#dystrybuanta(zmienne)\n"
   ]
  },
  {
   "cell_type": "code",
   "execution_count": null,
   "metadata": {},
   "outputs": [
    {
     "name": "stdout",
     "output_type": "stream",
     "text": [
      "[0, 1, 2, 3, 4, 5, 6, 7, 8, 9, 10, 11, 12, 13, 14, 15, 16, 17, 18, 19, 20, 21, 22, 23]\n",
      "(0, 1]        0\n",
      "(1, 2]        0\n",
      "(2, 3]        7\n",
      "(3, 4]       12\n",
      "(4, 5]       26\n",
      "(5, 6]       51\n",
      "(6, 7]      103\n",
      "(7, 8]      102\n",
      "(8, 9]      127\n",
      "(9, 10]     129\n",
      "(10, 11]    127\n",
      "(11, 12]    101\n",
      "(12, 13]     77\n",
      "(13, 14]     42\n",
      "(14, 15]     32\n",
      "(15, 16]     30\n",
      "(16, 17]     19\n",
      "(17, 18]      7\n",
      "(18, 19]      4\n",
      "(19, 20]      1\n",
      "(20, 21]      3\n",
      "(21, 22]      0\n",
      "(22, 23]      0\n",
      "Name: count, dtype: int64\n"
     ]
    },
    {
     "name": "stderr",
     "output_type": "stream",
     "text": [
      "C:\\Users\\karol\\AppData\\Local\\Temp\\ipykernel_16428\\4076506272.py:8: FutureWarning: pandas.value_counts is deprecated and will be removed in a future version. Use pd.Series(obj).value_counts() instead.\n",
      "  frequency = pd.value_counts(series, sort=False)\n"
     ]
    }
   ],
   "source": [
    "zmienne = np.random.poisson(lam=10, size=1000)\n",
    "#was(zmienne)\n",
    "#histogram(zmienne)\n",
    "#przedzialy(24, 1, zmienne)\n",
    "#dystrybuanta(zmienne)"
   ]
  },
  {
   "cell_type": "code",
   "execution_count": null,
   "metadata": {},
   "outputs": [],
   "source": []
  }
 ],
 "metadata": {
  "kernelspec": {
   "display_name": "Python 3",
   "language": "python",
   "name": "python3"
  },
  "language_info": {
   "codemirror_mode": {
    "name": "ipython",
    "version": 3
   },
   "file_extension": ".py",
   "mimetype": "text/x-python",
   "name": "python",
   "nbconvert_exporter": "python",
   "pygments_lexer": "ipython3",
   "version": "3.12.5"
  }
 },
 "nbformat": 4,
 "nbformat_minor": 2
}
